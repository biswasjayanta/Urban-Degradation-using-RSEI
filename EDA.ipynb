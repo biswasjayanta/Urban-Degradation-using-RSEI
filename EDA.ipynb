{
 "cells": [
  {
   "cell_type": "code",
   "execution_count": 4,
   "id": "1e795f07-515f-4b9b-a15e-e2a9f517a48e",
   "metadata": {},
   "outputs": [],
   "source": [
    "import pandas as pd\n",
    "import rasterio\n",
    "import numpy as np"
   ]
  },
  {
   "cell_type": "code",
   "execution_count": 48,
   "id": "72fe7cbf-3c6a-406c-88e1-8645beb0bb4b",
   "metadata": {},
   "outputs": [],
   "source": [
    "df = pd.read_csv(r\"C:\\Users\\USER\\OneDrive - The University of Memphis\\Khulna University\\BlueGreenSpace\\EcologicalIndexGIS\\Coding\\SCC_rmsi_index.csv\")\n",
    "# Compute mean, max, min, and std for each column\n",
    "statistics = df.describe().loc[['mean', 'max', 'min', 'std']]\n",
    "statistics.to_csv('SCC_statistics.csv')"
   ]
  }
 ],
 "metadata": {
  "kernelspec": {
   "display_name": "Python [conda env:conda-geo] *",
   "language": "python",
   "name": "conda-env-conda-geo-py"
  },
  "language_info": {
   "codemirror_mode": {
    "name": "ipython",
    "version": 3
   },
   "file_extension": ".py",
   "mimetype": "text/x-python",
   "name": "python",
   "nbconvert_exporter": "python",
   "pygments_lexer": "ipython3",
   "version": "3.11.10"
  }
 },
 "nbformat": 4,
 "nbformat_minor": 5
}
