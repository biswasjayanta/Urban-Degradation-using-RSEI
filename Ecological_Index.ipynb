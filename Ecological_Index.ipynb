{
 "cells": [
  {
   "cell_type": "code",
   "execution_count": 1,
   "id": "fbdb9f48-e37b-4f59-88f8-dc6809ed8dec",
   "metadata": {},
   "outputs": [],
   "source": [
    "import pandas as pd\n",
    "import rasterio\n",
    "import geopandas as gpd\n",
    "import geemap\n",
    "import ee\n",
    "import numpy as np\n",
    "from sklearn.preprocessing import MinMaxScaler\n",
    "from sklearn.decomposition import PCA\n",
    "import matplotlib.pyplot as plt\n",
    "import fiona\n",
    "from fiona import listlayers\n",
    "import geojson\n",
    "import json\n",
    "import os"
   ]
  },
  {
   "cell_type": "markdown",
   "id": "28446784-d290-4e8b-bc30-73ff69689d24",
   "metadata": {},
   "source": [
    "**Landsat-8**"
   ]
  },
  {
   "cell_type": "code",
   "execution_count": 3,
   "id": "8525f5b5-69a2-435c-bedd-28442fb6bc5f",
   "metadata": {},
   "outputs": [
    {
     "data": {
      "text/html": [
       "\n",
       "            <style>\n",
       "                .geemap-dark {\n",
       "                    --jp-widgets-color: white;\n",
       "                    --jp-widgets-label-color: white;\n",
       "                    --jp-ui-font-color1: white;\n",
       "                    --jp-layout-color2: #454545;\n",
       "                    background-color: #383838;\n",
       "                }\n",
       "\n",
       "                .geemap-dark .jupyter-button {\n",
       "                    --jp-layout-color3: #383838;\n",
       "                }\n",
       "\n",
       "                .geemap-colab {\n",
       "                    background-color: var(--colab-primary-surface-color, white);\n",
       "                }\n",
       "\n",
       "                .geemap-colab .jupyter-button {\n",
       "                    --jp-layout-color3: var(--colab-primary-surface-color, white);\n",
       "                }\n",
       "            </style>\n",
       "            "
      ],
      "text/plain": [
       "<IPython.core.display.HTML object>"
      ]
     },
     "metadata": {},
     "output_type": "display_data"
    }
   ],
   "source": [
    "# Function to calculate NDVI\n",
    "def calculate_ndvi(image):\n",
    "      nir = image.select('B5')\n",
    "      red = image.select('B4')\n",
    "      ndvi = image.expression(\n",
    "          '(NIR-RED)/(NIR+RED)',\n",
    "          {\n",
    "              'NIR': nir,\n",
    "              'RED': red\n",
    "          }\n",
    "      ).rename('NDVI')\n",
    "      return ndvi\n",
    "# Function to calculate Wetness\n",
    "def calculate_wet(image):\n",
    "  blue = image.select('B2')\n",
    "  green = image.select('B3')\n",
    "  red = image.select('B4')\n",
    "  nir = image.select('B5')\n",
    "  swir1 = image.select('B6')\n",
    "  swir2 = image.select('B7')\n",
    "  wetness = image.expression(\n",
    "      '(0.1511*BLUE) +(0.1973*GREEN)+(0.3283*RED)+(0.3407*NIR)-(0.7117*SWIR1)-(0.4559*SWIR2)'\n",
    "      , {\n",
    "          'BLUE': blue,\n",
    "          'GREEN': green,\n",
    "          'RED': red,\n",
    "          'NIR': nir,\n",
    "          'SWIR1': swir1,\n",
    "          'SWIR2': swir2\n",
    "      }).rename('Wetness')\n",
    "  return wetness\n",
    "# Function to calculate NDBSI\n",
    "def calculate_ndbsi(image):\n",
    "  blue = image.select('B2')\n",
    "  green = image.select('B3')\n",
    "  red = image.select('B4')\n",
    "  nir = image.select('B5')\n",
    "  swir1= image.select('B6')\n",
    "  swir2 = image.select('B7')\n",
    "  si= image.expression(\n",
    "      '((SWIR1+RED)-(NIR+BLUE))/((SWIR1+RED)+(NIR+BLUE))',\n",
    "       {\n",
    "          'NIR': nir,\n",
    "          'RED': red,\n",
    "          'GREEN': green,\n",
    "          'SWIR1': swir1,\n",
    "          'SWIR2': swir2,\n",
    "          'BLUE': blue\n",
    "      }).rename('SI')\n",
    "  ibi = image.expression(\n",
    "      '(2 * SWIR1) / (SWIR1 + NIR) - [(NIR / (NIR + RED)) + (GREEN / (GREEN + SWIR1))]/(2 * SWIR1) / (SWIR1 + NIR) + [(NIR / (NIR + RED)) + (GREEN / (GREEN + SWIR1))]', {\n",
    "          'NIR': nir,\n",
    "          'RED': red,\n",
    "          'GREEN': green,\n",
    "          'SWIR1': swir1,\n",
    "          'SWIR2': swir2\n",
    "      }).rename('IBI')\n",
    "  ndbsi = image.expression(\n",
    "      '(IBI+SI)/2', {\n",
    "          'IBI': ibi,\n",
    "          'SI': si\n",
    "      }).rename('NDBSI')\n",
    "  return ndbsi\n",
    "\n",
    "\n",
    "# Function to calculate LST\n",
    "def calculate_lst(image):\n",
    "  # Step 1: Calculate NDVI\n",
    "  ndvi = image.normalizedDifference(['B5', 'B4']).rename('NDVI')\n",
    "\n",
    "  # Step 2: Calculate minimum and maximum NDVI in the AOI\n",
    "  ndviMin = ee.Number(ndvi.reduceRegion(\n",
    "          reducer=ee.Reducer.min(),\n",
    "          geometry=aoi,\n",
    "          scale=30,\n",
    "          maxPixels=1e9\n",
    "      ).values().get(0))\n",
    "\n",
    "  ndviMax = ee.Number(ndvi.reduceRegion(\n",
    "          reducer=ee.Reducer.max(),\n",
    "          geometry=aoi,\n",
    "          scale=30,\n",
    "          maxPixels=1e9\n",
    "      ).values().get(0))\n",
    "\n",
    "  # Step 3: Calculate Fractional Vegetation (FV)\n",
    "  fv = ndvi.subtract(ndviMin) \\\n",
    "              .divide(ndviMax.subtract(ndviMin)) \\\n",
    "              .pow(ee.Number(2)) \\\n",
    "              .rename('FV')\n",
    "\n",
    "  # Step 4: Calculate Emissivity (EM)\n",
    "  em = fv.multiply(ee.Number(0.004)).add(ee.Number(0.986)).rename('EM')\n",
    "\n",
    "  # Step 5: Select Thermal Band (Band 10)\n",
    "  thermal = image.select('B10').rename('thermal')\n",
    "\n",
    "  # Step 6: Calculate Land Surface Temperature (LST)\n",
    "  lst = thermal.expression(\n",
    "          '(TB / (1 + (0.00115 * (TB / 1.438)) * log(em))) - 273.15', {\n",
    "              'TB': thermal.select('thermal'),  # Brightness temperature in Kelvin\n",
    "              'em': em  # Emissivity\n",
    "          }).rename('LST')\n",
    "  return lst"
   ]
  },
  {
   "cell_type": "markdown",
   "id": "980596cf-6d83-4eb7-a45b-63eae2b2e6c8",
   "metadata": {},
   "source": [
    "**Image Export**"
   ]
  },
  {
   "cell_type": "code",
   "execution_count": 5,
   "id": "ea0edebd-aebf-430d-88ac-a54c787047f2",
   "metadata": {},
   "outputs": [
    {
     "data": {
      "text/html": [
       "\n",
       "            <style>\n",
       "                .geemap-dark {\n",
       "                    --jp-widgets-color: white;\n",
       "                    --jp-widgets-label-color: white;\n",
       "                    --jp-ui-font-color1: white;\n",
       "                    --jp-layout-color2: #454545;\n",
       "                    background-color: #383838;\n",
       "                }\n",
       "\n",
       "                .geemap-dark .jupyter-button {\n",
       "                    --jp-layout-color3: #383838;\n",
       "                }\n",
       "\n",
       "                .geemap-colab {\n",
       "                    background-color: var(--colab-primary-surface-color, white);\n",
       "                }\n",
       "\n",
       "                .geemap-colab .jupyter-button {\n",
       "                    --jp-layout-color3: var(--colab-primary-surface-color, white);\n",
       "                }\n",
       "            </style>\n",
       "            "
      ],
      "text/plain": [
       "<IPython.core.display.HTML object>"
      ]
     },
     "metadata": {},
     "output_type": "display_data"
    }
   ],
   "source": [
    "def export_image(image, image_name):\n",
    "      # Create and start the export task\n",
    "        task = ee.batch.Export.image.toDrive(\n",
    "            image=image,\n",
    "            description=f\"{image_name}\",\n",
    "            folder=\"GEE_Exports\",\n",
    "            fileNamePrefix=image_name,\n",
    "            region=aoi,\n",
    "            fileFormat='GeoTIFF',\n",
    "            scale=30,\n",
    "            maxPixels=1e13\n",
    "        )\n",
    "        task.start()\n",
    "        print(f\"Export task for '{image_name}' started. Check Google Drive for output.\")"
   ]
  },
  {
   "cell_type": "code",
   "execution_count": null,
   "id": "2ab541d0-d186-4f8d-bfe1-fa12402c4a99",
   "metadata": {},
   "outputs": [],
   "source": [
    "projectid = input(\"Enter your google engine cloud project id: \")"
   ]
  },
  {
   "cell_type": "code",
   "execution_count": 24,
   "id": "779b45ba-0689-4956-a5b1-70cb79ecc8b1",
   "metadata": {},
   "outputs": [
    {
     "data": {
      "text/html": [
       "\n",
       "            <style>\n",
       "                .geemap-dark {\n",
       "                    --jp-widgets-color: white;\n",
       "                    --jp-widgets-label-color: white;\n",
       "                    --jp-ui-font-color1: white;\n",
       "                    --jp-layout-color2: #454545;\n",
       "                    background-color: #383838;\n",
       "                }\n",
       "\n",
       "                .geemap-dark .jupyter-button {\n",
       "                    --jp-layout-color3: #383838;\n",
       "                }\n",
       "\n",
       "                .geemap-colab {\n",
       "                    background-color: var(--colab-primary-surface-color, white);\n",
       "                }\n",
       "\n",
       "                .geemap-colab .jupyter-button {\n",
       "                    --jp-layout-color3: var(--colab-primary-surface-color, white);\n",
       "                }\n",
       "            </style>\n",
       "            "
      ],
      "text/plain": [
       "<IPython.core.display.HTML object>"
      ]
     },
     "metadata": {},
     "output_type": "display_data"
    },
    {
     "data": {
      "application/vnd.jupyter.widget-view+json": {
       "model_id": "455d2ca65eb145a6af5f53f293545712",
       "version_major": 2,
       "version_minor": 0
      },
      "text/plain": [
       "Map(center=[23.715081709283623, 90.08962659013804], controls=(WidgetControl(options=['position', 'transparent_…"
      ]
     },
     "execution_count": 24,
     "metadata": {},
     "output_type": "execute_result"
    }
   ],
   "source": [
    "ee.Authenticate()\n",
    "ee.Initialize(project= projectid)\n",
    "Map = geemap.Map(center=(35.12107930404553, -89.98483533026703), zoom=9)\n",
    "Map"
   ]
  },
  {
   "cell_type": "code",
   "execution_count": 30,
   "id": "ef3a710c-7a3d-4949-8a0f-cf3c5d9565ca",
   "metadata": {},
   "outputs": [
    {
     "data": {
      "text/html": [
       "\n",
       "            <style>\n",
       "                .geemap-dark {\n",
       "                    --jp-widgets-color: white;\n",
       "                    --jp-widgets-label-color: white;\n",
       "                    --jp-ui-font-color1: white;\n",
       "                    --jp-layout-color2: #454545;\n",
       "                    background-color: #383838;\n",
       "                }\n",
       "\n",
       "                .geemap-dark .jupyter-button {\n",
       "                    --jp-layout-color3: #383838;\n",
       "                }\n",
       "\n",
       "                .geemap-colab {\n",
       "                    background-color: var(--colab-primary-surface-color, white);\n",
       "                }\n",
       "\n",
       "                .geemap-colab .jupyter-button {\n",
       "                    --jp-layout-color3: var(--colab-primary-surface-color, white);\n",
       "                }\n",
       "            </style>\n",
       "            "
      ],
      "text/plain": [
       "<IPython.core.display.HTML object>"
      ]
     },
     "metadata": {},
     "output_type": "display_data"
    }
   ],
   "source": [
    "#Location of your shapefile\n",
    "filePath = r\"C:\\Users\\USER\\OneDrive - The University of Memphis\\U of M\\Spring 2025\\GIS Living Lab\\UHI_Code\\County_Shape\\Shelby.shp\""
   ]
  },
  {
   "cell_type": "code",
   "execution_count": 32,
   "id": "0b50471e-d38d-4e78-a807-6fa5e0ee7408",
   "metadata": {},
   "outputs": [
    {
     "data": {
      "text/html": [
       "\n",
       "            <style>\n",
       "                .geemap-dark {\n",
       "                    --jp-widgets-color: white;\n",
       "                    --jp-widgets-label-color: white;\n",
       "                    --jp-ui-font-color1: white;\n",
       "                    --jp-layout-color2: #454545;\n",
       "                    background-color: #383838;\n",
       "                }\n",
       "\n",
       "                .geemap-dark .jupyter-button {\n",
       "                    --jp-layout-color3: #383838;\n",
       "                }\n",
       "\n",
       "                .geemap-colab {\n",
       "                    background-color: var(--colab-primary-surface-color, white);\n",
       "                }\n",
       "\n",
       "                .geemap-colab .jupyter-button {\n",
       "                    --jp-layout-color3: var(--colab-primary-surface-color, white);\n",
       "                }\n",
       "            </style>\n",
       "            "
      ],
      "text/plain": [
       "<IPython.core.display.HTML object>"
      ]
     },
     "metadata": {},
     "output_type": "display_data"
    }
   ],
   "source": [
    "gdf = gpd.read_file(filePath)\n",
    "geojson_str = gdf.to_json()\n",
    "geojson_dict = json.loads(geojson_str)\n",
    "aoi = ee.FeatureCollection(geojson_dict).geometry()\n",
    "Map.addLayer(aoi, {}, 'Area of Interest')"
   ]
  },
  {
   "cell_type": "code",
   "execution_count": 42,
   "id": "0dfed7e1-cd5f-48e9-a269-56844ee4ca43",
   "metadata": {},
   "outputs": [
    {
     "data": {
      "text/html": [
       "\n",
       "            <style>\n",
       "                .geemap-dark {\n",
       "                    --jp-widgets-color: white;\n",
       "                    --jp-widgets-label-color: white;\n",
       "                    --jp-ui-font-color1: white;\n",
       "                    --jp-layout-color2: #454545;\n",
       "                    background-color: #383838;\n",
       "                }\n",
       "\n",
       "                .geemap-dark .jupyter-button {\n",
       "                    --jp-layout-color3: #383838;\n",
       "                }\n",
       "\n",
       "                .geemap-colab {\n",
       "                    background-color: var(--colab-primary-surface-color, white);\n",
       "                }\n",
       "\n",
       "                .geemap-colab .jupyter-button {\n",
       "                    --jp-layout-color3: var(--colab-primary-surface-color, white);\n",
       "                }\n",
       "            </style>\n",
       "            "
      ],
      "text/plain": [
       "<IPython.core.display.HTML object>"
      ]
     },
     "metadata": {},
     "output_type": "display_data"
    }
   ],
   "source": [
    "sImage = ee.ImageCollection('LANDSAT/LC08/C02/T1_TOA') \\\n",
    "             .filterBounds(aoi) \\\n",
    "             .filterDate('2022-05-01', '2022-08-30') \\\n",
    "             .filterMetadata('CLOUD_COVER', 'less_than', 0.1) \\\n",
    "\n",
    "sImage8 = sImage.median().clip(aoi)\n",
    "Map.addLayer(sImage8, {'bands': ['B4', 'B3', 'B2'], 'min': 0, 'max': 0.3}, 'Landsat-8 Image')"
   ]
  },
  {
   "cell_type": "code",
   "execution_count": 44,
   "id": "a61f5b53-6cc6-498c-98ae-bac16d08ed1e",
   "metadata": {},
   "outputs": [
    {
     "data": {
      "text/html": [
       "\n",
       "            <style>\n",
       "                .geemap-dark {\n",
       "                    --jp-widgets-color: white;\n",
       "                    --jp-widgets-label-color: white;\n",
       "                    --jp-ui-font-color1: white;\n",
       "                    --jp-layout-color2: #454545;\n",
       "                    background-color: #383838;\n",
       "                }\n",
       "\n",
       "                .geemap-dark .jupyter-button {\n",
       "                    --jp-layout-color3: #383838;\n",
       "                }\n",
       "\n",
       "                .geemap-colab {\n",
       "                    background-color: var(--colab-primary-surface-color, white);\n",
       "                }\n",
       "\n",
       "                .geemap-colab .jupyter-button {\n",
       "                    --jp-layout-color3: var(--colab-primary-surface-color, white);\n",
       "                }\n",
       "            </style>\n",
       "            "
      ],
      "text/plain": [
       "<IPython.core.display.HTML object>"
      ]
     },
     "metadata": {},
     "output_type": "display_data"
    },
    {
     "name": "stdout",
     "output_type": "stream",
     "text": [
      "Metadata for images used in the composite:\n",
      "['LC08_023035_20220711', 'LC08_023036_20220625']\n",
      "['2022-07-11T16:36:55', '2022-06-25T16:37:19']\n",
      "[0, 0.08]\n"
     ]
    }
   ],
   "source": [
    "# Convert metadata to a list\n",
    "image_metadata = sImage.map(lambda img: img.select([]).set('id', img.id(), 'date', img.date().format(), 'cloud_cover', img.get('CLOUD_COVER')))\n",
    "metadata_list = []\n",
    "\n",
    "name = image_metadata.aggregate_array('id').getInfo()\n",
    "metadata_list.append(name)\n",
    "date = image_metadata.aggregate_array('date').getInfo()\n",
    "metadata_list.append(date)\n",
    "cloud_cover = image_metadata.aggregate_array('cloud_cover').getInfo()\n",
    "metadata_list.append(cloud_cover)\n",
    "# Print metadata\n",
    "print(\"Metadata for images used in the composite:\")\n",
    "print(name)\n",
    "print(date)\n",
    "print(cloud_cover)"
   ]
  },
  {
   "cell_type": "code",
   "execution_count": 46,
   "id": "5737ae83-5cd6-4cc6-a4a6-8e59463f8c95",
   "metadata": {},
   "outputs": [
    {
     "data": {
      "text/html": [
       "\n",
       "            <style>\n",
       "                .geemap-dark {\n",
       "                    --jp-widgets-color: white;\n",
       "                    --jp-widgets-label-color: white;\n",
       "                    --jp-ui-font-color1: white;\n",
       "                    --jp-layout-color2: #454545;\n",
       "                    background-color: #383838;\n",
       "                }\n",
       "\n",
       "                .geemap-dark .jupyter-button {\n",
       "                    --jp-layout-color3: #383838;\n",
       "                }\n",
       "\n",
       "                .geemap-colab {\n",
       "                    background-color: var(--colab-primary-surface-color, white);\n",
       "                }\n",
       "\n",
       "                .geemap-colab .jupyter-button {\n",
       "                    --jp-layout-color3: var(--colab-primary-surface-color, white);\n",
       "                }\n",
       "            </style>\n",
       "            "
      ],
      "text/plain": [
       "<IPython.core.display.HTML object>"
      ]
     },
     "metadata": {},
     "output_type": "display_data"
    }
   ],
   "source": [
    "ndvi = calculate_ndvi(sImage8)\n",
    "wetness = calculate_wet(sImage8)\n",
    "ndbsi = calculate_ndbsi(sImage8)\n",
    "lst = calculate_lst(sImage8)"
   ]
  },
  {
   "cell_type": "code",
   "execution_count": 48,
   "id": "c93494dc-412b-4425-8042-88a52f0017cc",
   "metadata": {},
   "outputs": [
    {
     "data": {
      "text/html": [
       "\n",
       "            <style>\n",
       "                .geemap-dark {\n",
       "                    --jp-widgets-color: white;\n",
       "                    --jp-widgets-label-color: white;\n",
       "                    --jp-ui-font-color1: white;\n",
       "                    --jp-layout-color2: #454545;\n",
       "                    background-color: #383838;\n",
       "                }\n",
       "\n",
       "                .geemap-dark .jupyter-button {\n",
       "                    --jp-layout-color3: #383838;\n",
       "                }\n",
       "\n",
       "                .geemap-colab {\n",
       "                    background-color: var(--colab-primary-surface-color, white);\n",
       "                }\n",
       "\n",
       "                .geemap-colab .jupyter-button {\n",
       "                    --jp-layout-color3: var(--colab-primary-surface-color, white);\n",
       "                }\n",
       "            </style>\n",
       "            "
      ],
      "text/plain": [
       "<IPython.core.display.HTML object>"
      ]
     },
     "metadata": {},
     "output_type": "display_data"
    },
    {
     "name": "stdout",
     "output_type": "stream",
     "text": [
      "Export task for 'lst_22_Shelby' started. Check Google Drive for output.\n"
     ]
    }
   ],
   "source": [
    "export_image(lst, \"lst_22_Shelby\")"
   ]
  },
  {
   "cell_type": "code",
   "execution_count": 12,
   "id": "ba2b7da0-7a7c-4739-a8e4-e90a58512ee7",
   "metadata": {},
   "outputs": [
    {
     "data": {
      "text/html": [
       "\n",
       "            <style>\n",
       "                .geemap-dark {\n",
       "                    --jp-widgets-color: white;\n",
       "                    --jp-widgets-label-color: white;\n",
       "                    --jp-ui-font-color1: white;\n",
       "                    --jp-layout-color2: #454545;\n",
       "                    background-color: #383838;\n",
       "                }\n",
       "\n",
       "                .geemap-dark .jupyter-button {\n",
       "                    --jp-layout-color3: #383838;\n",
       "                }\n",
       "\n",
       "                .geemap-colab {\n",
       "                    background-color: var(--colab-primary-surface-color, white);\n",
       "                }\n",
       "\n",
       "                .geemap-colab .jupyter-button {\n",
       "                    --jp-layout-color3: var(--colab-primary-surface-color, white);\n",
       "                }\n",
       "            </style>\n",
       "            "
      ],
      "text/plain": [
       "<IPython.core.display.HTML object>"
      ]
     },
     "metadata": {},
     "output_type": "display_data"
    },
    {
     "name": "stdout",
     "output_type": "stream",
     "text": [
      "Export task for 'ndvi_22_Shelby' started. Check Google Drive for output.\n",
      "Export task for 'wetness_22_Shelby' started. Check Google Drive for output.\n",
      "Export task for 'ndbsi_22_Shelby' started. Check Google Drive for output.\n",
      "Export task for 'lst_22_Shelby' started. Check Google Drive for output.\n"
     ]
    }
   ],
   "source": [
    "export_image(ndvi, \"ndvi_22_Shelby\")\n",
    "export_image(wetness, \"wetness_22_Shelby\")\n",
    "export_image(ndbsi, \"ndbsi_22_Shelby\")\n",
    "export_image(lst, \"lst_22_Shelby\")"
   ]
  },
  {
   "cell_type": "code",
   "execution_count": null,
   "id": "531d6163-8872-43b0-9162-28bb9125591d",
   "metadata": {},
   "outputs": [],
   "source": []
  }
 ],
 "metadata": {
  "kernelspec": {
   "display_name": "Python 3 (ipykernel)",
   "language": "python",
   "name": "python3"
  },
  "language_info": {
   "codemirror_mode": {
    "name": "ipython",
    "version": 3
   },
   "file_extension": ".py",
   "mimetype": "text/x-python",
   "name": "python",
   "nbconvert_exporter": "python",
   "pygments_lexer": "ipython3",
   "version": "3.12.4"
  }
 },
 "nbformat": 4,
 "nbformat_minor": 5
}
