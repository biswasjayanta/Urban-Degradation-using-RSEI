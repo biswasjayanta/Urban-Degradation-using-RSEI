{
 "cells": [
  {
   "cell_type": "code",
   "execution_count": 2,
   "metadata": {},
   "outputs": [],
   "source": [
    "import arcpy\n",
    "import os"
   ]
  },
  {
   "cell_type": "code",
   "execution_count": 8,
   "metadata": {},
   "outputs": [],
   "source": [
    "arcpy.env.overwriteOutput = True"
   ]
  },
  {
   "cell_type": "code",
   "execution_count": 15,
   "metadata": {},
   "outputs": [],
   "source": [
    "path = (r\"C:\\Users\\jbiswas.UOM.000\\OneDrive - The University of Memphis\\Khulna University\\BlueGreenSpace\\EcologicalIndexGIS\\RESI_Values.gdb\")"
   ]
  },
  {
   "cell_type": "code",
   "execution_count": 16,
   "metadata": {},
   "outputs": [],
   "source": [
    "arcpy.env.workspace = path"
   ]
  },
  {
   "cell_type": "code",
   "execution_count": 17,
   "metadata": {},
   "outputs": [],
   "source": [
    "point_files = arcpy.ListFeatureClasses()"
   ]
  },
  {
   "cell_type": "code",
   "execution_count": 18,
   "metadata": {},
   "outputs": [
    {
     "data": {
      "text/plain": [
       "['SCC_rmsi_index_XYTableToPoint', 'RCC_rmsi_index_XYTableToPoint', 'RaCC_rmsi_index_XYTableToPoint', 'NCC_rmsi_index_XYTableToPoint', 'MCC_rmsi_index_XYTableToPoint', 'KCC_rmsi_index_XYTableToPoint', 'GCC_rmsi_index_XYTableToPoint', 'DSCC_rmsi_index_XYTableToPoint', 'DNCC_rmsi_index_XYTableToPoint', 'CuCC_rmsi_index_XYTableToPoint', 'BCC_rmsi_index1_XYTableToPoint', 'CCC_rmsi_update_XYTableToPoint']"
      ]
     },
     "execution_count": 18,
     "metadata": {},
     "output_type": "execute_result"
    }
   ],
   "source": [
    "point_files"
   ]
  },
  {
   "cell_type": "code",
   "execution_count": 19,
   "metadata": {},
   "outputs": [],
   "source": [
    "for point in point_files:\n",
    "    # Extract the first word from the point string\n",
    "    first_word = point.split('_')[0]\n",
    "    \n",
    "    # Define the Output_Feature_Class using the first word\n",
    "    output_feature_class = f\"{first_word}_16\"  # Example naming convention\n",
    "\n",
    "    # Run the ClustersOutliers_stats function\n",
    "    arcpy.ClustersOutliers_stats(Input_Feature_Class=point,\n",
    "                                 Input_Field=\"rsei_16\",\n",
    "                                 Output_Feature_Class=output_feature_class,\n",
    "                                 Conceptualization_of_Spatial_Relationships=\"INVERSE_DISTANCE\",\n",
    "                                 Distance_Method=\"EUCLIDEAN_DISTANCE\",\n",
    "                                 Standardization=\"NONE\")\n"
   ]
  },
  {
   "cell_type": "code",
   "execution_count": 20,
   "metadata": {},
   "outputs": [],
   "source": [
    "for point in point_files:\n",
    "    # Extract the first word from the point string\n",
    "    first_word = point.split('_')[0]\n",
    "    \n",
    "    # Define the Output_Feature_Class using the first word\n",
    "    output_feature_class = f\"{first_word}_20\"  # Example naming convention\n",
    "\n",
    "    # Run the ClustersOutliers_stats function\n",
    "    arcpy.ClustersOutliers_stats(Input_Feature_Class=point,\n",
    "                                 Input_Field=\"rsei_20\",\n",
    "                                 Output_Feature_Class=output_feature_class,\n",
    "                                 Conceptualization_of_Spatial_Relationships=\"INVERSE_DISTANCE\",\n",
    "                                 Distance_Method=\"EUCLIDEAN_DISTANCE\",\n",
    "                                 Standardization=\"NONE\")"
   ]
  },
  {
   "cell_type": "code",
   "execution_count": 21,
   "metadata": {},
   "outputs": [],
   "source": [
    "for point in point_files:\n",
    "    # Extract the first word from the point string\n",
    "    first_word = point.split('_')[0]\n",
    "    \n",
    "    # Define the Output_Feature_Class using the first word\n",
    "    output_feature_class = f\"{first_word}_24\"  # Example naming convention\n",
    "\n",
    "    # Run the ClustersOutliers_stats function\n",
    "    arcpy.ClustersOutliers_stats(Input_Feature_Class=point,\n",
    "                                 Input_Field=\"rsei_24\",\n",
    "                                 Output_Feature_Class=output_feature_class,\n",
    "                                 Conceptualization_of_Spatial_Relationships=\"INVERSE_DISTANCE\",\n",
    "                                 Distance_Method=\"EUCLIDEAN_DISTANCE\",\n",
    "                                 Standardization=\"NONE\")"
   ]
  },
  {
   "cell_type": "code",
   "execution_count": null,
   "metadata": {},
   "outputs": [],
   "source": []
  }
 ],
 "metadata": {
  "kernelspec": {
   "display_name": "ArcGISPro",
   "language": "Python",
   "name": "python3"
  },
  "language_info": {
   "file_extension": ".py",
   "name": "python",
   "version": "3"
  }
 },
 "nbformat": 4,
 "nbformat_minor": 2
}
