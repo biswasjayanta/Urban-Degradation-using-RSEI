{
 "cells": [
  {
   "cell_type": "code",
   "execution_count": 142,
   "id": "a91be731-e80f-4a71-9dab-8213d984b3ef",
   "metadata": {},
   "outputs": [
    {
     "name": "stdout",
     "output_type": "stream",
     "text": [
      "Collecting ace_tools\n",
      "  Downloading ace_tools-0.0-py3-none-any.whl.metadata (300 bytes)\n",
      "Downloading ace_tools-0.0-py3-none-any.whl (1.1 kB)\n",
      "Installing collected packages: ace_tools\n",
      "Successfully installed ace_tools-0.0\n"
     ]
    }
   ],
   "source": [
    "!pip install ace_tools"
   ]
  },
  {
   "cell_type": "code",
   "execution_count": 18,
   "id": "b072d41a-35fd-415a-9646-e4434220ed38",
   "metadata": {},
   "outputs": [],
   "source": [
    "import pandas as pd\n",
    "import scipy.stats as stats\n",
    "import numpy as np\n",
    "import matplotlib.pyplot as plt\n",
    "from statsmodels.stats.multicomp import pairwise_tukeyhsd"
   ]
  },
  {
   "cell_type": "code",
   "execution_count": 128,
   "id": "8f35408d-1ac0-44e1-a5d0-f0dd973d61c5",
   "metadata": {},
   "outputs": [],
   "source": [
    "df = pd.read_csv(r\"C:\\Users\\USER\\OneDrive - The University of Memphis\\Khulna University\\BlueGreenSpace\\EcologicalIndexGIS\\Coding\\RSEI_files\\CCC_rmsi_index.csv\")"
   ]
  },
  {
   "cell_type": "code",
   "execution_count": 129,
   "id": "e26cb922-75b2-47f7-884f-e64edcb5e990",
   "metadata": {},
   "outputs": [],
   "source": [
    "before = df['rsei_16']\n",
    "after = df['rsei_20']"
   ]
  },
  {
   "cell_type": "code",
   "execution_count": 130,
   "id": "d8849b0d-3135-4033-9790-88b7b9c476eb",
   "metadata": {},
   "outputs": [
    {
     "name": "stdout",
     "output_type": "stream",
     "text": [
      "T-statistic: 227.9681\n",
      "P-value: 0.0000\n",
      "Cohen's d: -0.4639\n"
     ]
    }
   ],
   "source": [
    "# Perform the paired t-test\n",
    "t_stat, p_value = stats.ttest_rel(before, after)\n",
    "\n",
    "# Print results\n",
    "print(f'T-statistic: {t_stat:.4f}')\n",
    "print(f'P-value: {p_value:.4f}')\n",
    "\n",
    "# Compute the difference\n",
    "diff = after - before\n",
    "mean_diff = np.mean(diff)  # Mean difference\n",
    "std_diff = np.std(diff, ddof=1)  # Standard deviation of differences\n",
    "cohen_d = mean_diff / std_diff  # Cohen's d calculation\n",
    "\n",
    "print(f\"Cohen's d: {cohen_d:.4f}\")"
   ]
  },
  {
   "cell_type": "code",
   "execution_count": 131,
   "id": "f6ff42de-b6dd-42a8-a3ce-f76d4b195c86",
   "metadata": {},
   "outputs": [
    {
     "name": "stdout",
     "output_type": "stream",
     "text": [
      "T-statistic: 583.3468\n",
      "P-value: 0.0000\n",
      "Cohen's d: -1.1871\n"
     ]
    }
   ],
   "source": [
    "before = df['rsei_20']\n",
    "after = df['rsei_24']\n",
    "# Perform the paired t-test\n",
    "t_stat, p_value = stats.ttest_rel(before, after)\n",
    "\n",
    "# Print results\n",
    "print(f'T-statistic: {t_stat:.4f}')\n",
    "print(f'P-value: {p_value:.4f}')\n",
    "# Compute the difference\n",
    "diff = after - before\n",
    "mean_diff = np.mean(diff)  # Mean difference\n",
    "std_diff = np.std(diff, ddof=1)  # Standard deviation of differences\n",
    "cohen_d = mean_diff / std_diff  # Cohen's d calculation\n",
    "\n",
    "print(f\"Cohen's d: {cohen_d:.4f}\")"
   ]
  },
  {
   "cell_type": "code",
   "execution_count": 38,
   "id": "c462f3c4-6632-4276-b949-be848bba34bd",
   "metadata": {},
   "outputs": [
    {
     "name": "stdout",
     "output_type": "stream",
     "text": [
      "Cohen's d: 0.1778\n"
     ]
    }
   ],
   "source": []
  },
  {
   "cell_type": "code",
   "execution_count": 39,
   "id": "2a33df83-324b-4d57-a5cf-9fa2ebf33fe7",
   "metadata": {},
   "outputs": [],
   "source": [
    "data_2016 = df['rsei_16']\n",
    "data_2020 = df['rsei_20']\n",
    "data_2024 = df['rsei_24']"
   ]
  },
  {
   "cell_type": "code",
   "execution_count": 40,
   "id": "7331ba58-b340-406a-a408-5f3452e3685c",
   "metadata": {},
   "outputs": [
    {
     "name": "stdout",
     "output_type": "stream",
     "text": [
      "F-statistic: 14663.7867\n",
      "P-value: 0.0000\n"
     ]
    },
    {
     "name": "stderr",
     "output_type": "stream",
     "text": [
      "C:\\Users\\USER\\AppData\\Local\\Temp\\ipykernel_17200\\1791996209.py:9: MatplotlibDeprecationWarning: The 'labels' parameter of boxplot() has been renamed 'tick_labels' since Matplotlib 3.9; support for the old name will be dropped in 3.11.\n",
      "  plt.boxplot([data_2016, data_2020, data_2024], labels=['2016', '2020', '2024'])\n"
     ]
    },
    {
     "data": {
      "image/png": "[encoded data removed]",
      "text/plain": [
       "<Figure size 600x400 with 1 Axes>"
      ]
     },
     "metadata": {},
     "output_type": "display_data"
    }
   ],
   "source": [
    "f_statistic, p_value = stats.f_oneway(data_2016, data_2020, data_2024)\n",
    "\n",
    "# Print ANOVA results\n",
    "print(f\"F-statistic: {f_statistic:.4f}\")\n",
    "print(f\"P-value: {p_value:.4f}\")\n",
    "\n",
    "# Boxplot to visualize the differences\n",
    "plt.figure(figsize=(6,4))\n",
    "plt.boxplot([data_2016, data_2020, data_2024], labels=['2016', '2020', '2024'])\n",
    "plt.title(\"ANOVA Comparison: 2016 vs 2020 vs 2024\")\n",
    "plt.ylabel(\"Values\")\n",
    "\n",
    "# Show the plot\n",
    "plt.show()"
   ]
  },
  {
   "cell_type": "code",
   "execution_count": 41,
   "id": "242de199-0999-4488-b9b8-44fd019b9e81",
   "metadata": {},
   "outputs": [
    {
     "name": "stdout",
     "output_type": "stream",
     "text": [
      "Multiple Comparison of Means - Tukey HSD, FWER=0.05\n",
      "===================================================\n",
      "group1 group2 meandiff p-adj  lower   upper  reject\n",
      "---------------------------------------------------\n",
      "  2016   2020  -0.0592   0.0 -0.0601 -0.0584   True\n",
      "  2016   2024  -0.0467   0.0 -0.0475 -0.0458   True\n",
      "  2020   2024   0.0126   0.0  0.0117  0.0134   True\n",
      "---------------------------------------------------\n"
     ]
    }
   ],
   "source": [
    "# Combine data into a single DataFrame for Tukey's test\n",
    "data = np.concatenate([data_2016, data_2020, data_2024])\n",
    "years = ['2016'] * len(data_2016) + ['2020'] * len(data_2020) + ['2024'] * len(data_2024)\n",
    "\n",
    "df = pd.DataFrame({'Year': years, 'Value': data})\n",
    "\n",
    "# Perform Tukey’s HSD test\n",
    "tukey_results = pairwise_tukeyhsd(df['Value'], df['Year'])\n",
    "\n",
    "# Display results\n",
    "print(tukey_results)\n"
   ]
  },
  {
   "cell_type": "code",
   "execution_count": 42,
   "id": "fdbd3f1b-a9b9-4cbb-9d53-a622752876c4",
   "metadata": {},
   "outputs": [
    {
     "name": "stdout",
     "output_type": "stream",
     "text": [
      "Eta-squared (η²): 0.0735\n"
     ]
    }
   ],
   "source": [
    "# Calculate eta-squared (η²) for effect size in ANOVA\n",
    "def eta_squared(f_stat, df_between, df_within):\n",
    "    return f_stat * df_between / (f_stat * df_between + df_within)\n",
    "\n",
    "# Degrees of freedom\n",
    "df_between = 2  # Number of groups - 1 (2016, 2020, 2024 → 3 groups)\n",
    "df_within = len(data_2016) + len(data_2020) + len(data_2024) - 3  # Total samples - number of groups\n",
    "\n",
    "# Compute Eta-squared (effect size)\n",
    "eta_sq = eta_squared(f_statistic, df_between, df_within)\n",
    "\n",
    "# Print effect size result\n",
    "print(f\"Eta-squared (η²): {eta_sq:.4f}\")"
   ]
  },
  {
   "cell_type": "code",
   "execution_count": 133,
   "id": "38d814ec-37aa-4663-a3b8-94d9f63baab3",
   "metadata": {},
   "outputs": [],
   "source": [
    "import os\n",
    "import pandas as pd\n",
    "import numpy as np\n",
    "import scipy.stats as stats\n",
    "from statsmodels.stats.multicomp import pairwise_tukeyhsd\n",
    "\n",
    "# Set folder path where your CSV files are stored\n",
    "folder_path = r\"C:\\Users\\USER\\OneDrive - The University of Memphis\\Khulna University\\BlueGreenSpace\\EcologicalIndexGIS\\Coding\\RSEI_files\"\n",
    "\n",
    "# Initialize an empty list to store city data\n",
    "data_list = []"
   ]
  },
  {
   "cell_type": "code",
   "execution_count": 134,
   "id": "1cd0c558-81d9-4845-933b-5d06dcc51659",
   "metadata": {},
   "outputs": [],
   "source": [
    "# Loop through all CSV files in the folder\n",
    "for file in os.listdir(folder_path):\n",
    "    if file.endswith(\".csv\"):  # Ensure only CSV files are processed\n",
    "        city_name = file.replace(\".csv\", \"\")  # Extract city name from filename\n",
    "        file_path = os.path.join(folder_path, file)\n",
    "        \n",
    "        # Load the CSV file\n",
    "        df = pd.read_csv(file_path)\n",
    "        \n",
    "        # Ensure the columns for RSEI values are correctly named (update these if needed)\n",
    "        rsei_2016 = df[\"rsei_16\"]\n",
    "        rsei_2020 = df[\"rsei_20\"]\n",
    "        rsei_2024 = df[\"rsei_24\"]\n",
    "        \n",
    "        # Convert data into long format\n",
    "        for i, row in df.iterrows():\n",
    "            data_list.append([city_name, \"2016\", row[\"rsei_16\"]])\n",
    "            data_list.append([city_name, \"2020\", row[\"rsei_20\"]])\n",
    "            data_list.append([city_name, \"2024\", row[\"rsei_24\"]])"
   ]
  },
  {
   "cell_type": "code",
   "execution_count": 136,
   "id": "d4526930-95f6-4439-9571-fd5381e80871",
   "metadata": {},
   "outputs": [
    {
     "data": {
      "text/html": [
       "<div>\n",
       "<style scoped>\n",
       "    .dataframe tbody tr th:only-of-type {\n",
       "        vertical-align: middle;\n",
       "    }\n",
       "\n",
       "    .dataframe tbody tr th {\n",
       "        vertical-align: top;\n",
       "    }\n",
       "\n",
       "    .dataframe thead th {\n",
       "        text-align: right;\n",
       "    }\n",
       "</style>\n",
       "<table border=\"1\" class=\"dataframe\">\n",
       "  <thead>\n",
       "    <tr style=\"text-align: right;\">\n",
       "      <th></th>\n",
       "      <th>City</th>\n",
       "      <th>Year</th>\n",
       "      <th>RSEI</th>\n",
       "    </tr>\n",
       "  </thead>\n",
       "  <tbody>\n",
       "    <tr>\n",
       "      <th>0</th>\n",
       "      <td>BCC_rmsi_index</td>\n",
       "      <td>2016</td>\n",
       "      <td>0.575477</td>\n",
       "    </tr>\n",
       "    <tr>\n",
       "      <th>1</th>\n",
       "      <td>BCC_rmsi_index</td>\n",
       "      <td>2020</td>\n",
       "      <td>0.615981</td>\n",
       "    </tr>\n",
       "    <tr>\n",
       "      <th>2</th>\n",
       "      <td>BCC_rmsi_index</td>\n",
       "      <td>2024</td>\n",
       "      <td>0.585618</td>\n",
       "    </tr>\n",
       "    <tr>\n",
       "      <th>3</th>\n",
       "      <td>BCC_rmsi_index</td>\n",
       "      <td>2016</td>\n",
       "      <td>0.613911</td>\n",
       "    </tr>\n",
       "    <tr>\n",
       "      <th>4</th>\n",
       "      <td>BCC_rmsi_index</td>\n",
       "      <td>2020</td>\n",
       "      <td>0.627047</td>\n",
       "    </tr>\n",
       "    <tr>\n",
       "      <th>...</th>\n",
       "      <td>...</td>\n",
       "      <td>...</td>\n",
       "      <td>...</td>\n",
       "    </tr>\n",
       "    <tr>\n",
       "      <th>5210068</th>\n",
       "      <td>SCC_rmsi_index</td>\n",
       "      <td>2020</td>\n",
       "      <td>0.509477</td>\n",
       "    </tr>\n",
       "    <tr>\n",
       "      <th>5210069</th>\n",
       "      <td>SCC_rmsi_index</td>\n",
       "      <td>2024</td>\n",
       "      <td>0.430974</td>\n",
       "    </tr>\n",
       "    <tr>\n",
       "      <th>5210070</th>\n",
       "      <td>SCC_rmsi_index</td>\n",
       "      <td>2016</td>\n",
       "      <td>0.592458</td>\n",
       "    </tr>\n",
       "    <tr>\n",
       "      <th>5210071</th>\n",
       "      <td>SCC_rmsi_index</td>\n",
       "      <td>2020</td>\n",
       "      <td>0.485700</td>\n",
       "    </tr>\n",
       "    <tr>\n",
       "      <th>5210072</th>\n",
       "      <td>SCC_rmsi_index</td>\n",
       "      <td>2024</td>\n",
       "      <td>0.410292</td>\n",
       "    </tr>\n",
       "  </tbody>\n",
       "</table>\n",
       "<p>5210073 rows × 3 columns</p>\n",
       "</div>"
      ],
      "text/plain": [
       "                   City  Year      RSEI\n",
       "0        BCC_rmsi_index  2016  0.575477\n",
       "1        BCC_rmsi_index  2020  0.615981\n",
       "2        BCC_rmsi_index  2024  0.585618\n",
       "3        BCC_rmsi_index  2016  0.613911\n",
       "4        BCC_rmsi_index  2020  0.627047\n",
       "...                 ...   ...       ...\n",
       "5210068  SCC_rmsi_index  2020  0.509477\n",
       "5210069  SCC_rmsi_index  2024  0.430974\n",
       "5210070  SCC_rmsi_index  2016  0.592458\n",
       "5210071  SCC_rmsi_index  2020  0.485700\n",
       "5210072  SCC_rmsi_index  2024  0.410292\n",
       "\n",
       "[5210073 rows x 3 columns]"
      ]
     },
     "execution_count": 136,
     "metadata": {},
     "output_type": "execute_result"
    }
   ],
   "source": [
    "# Create a DataFrame\n",
    "df_combined = pd.DataFrame(data_list, columns=[\"City\", \"Year\", \"RSEI\"])\n",
    "# Convert 'Year' to categorical for statistical analysis\n",
    "df_combined[\"Year\"] = df_combined[\"Year\"].astype(str)\n",
    "# Display the first few rows\n",
    "df_combined"
   ]
  },
  {
   "cell_type": "code",
   "execution_count": 137,
   "id": "88a99eaf-17ac-47c1-9772-40c36fc76485",
   "metadata": {},
   "outputs": [
    {
     "name": "stdout",
     "output_type": "stream",
     "text": [
      "ANOVA F-statistic: 30133.8126, P-value: 0.0000\n"
     ]
    }
   ],
   "source": [
    "# 1. ANOVA Test (Check if there are overall significant differences)\n",
    "f_statistic, p_value = stats.f_oneway(\n",
    "    df_combined[df_combined[\"Year\"] == \"2016\"][\"RSEI\"],\n",
    "    df_combined[df_combined[\"Year\"] == \"2020\"][\"RSEI\"],\n",
    "    df_combined[df_combined[\"Year\"] == \"2024\"][\"RSEI\"]\n",
    ")\n",
    "print(f\"ANOVA F-statistic: {f_statistic:.4f}, P-value: {p_value:.4f}\")"
   ]
  },
  {
   "cell_type": "code",
   "execution_count": 138,
   "id": "80065c3e-384e-4afa-805c-622a92addd38",
   "metadata": {},
   "outputs": [
    {
     "name": "stdout",
     "output_type": "stream",
     "text": [
      "Paired t-test 2016 vs 2020: T-stat=132.2662, P-value=0.0000\n",
      "Paired t-test 2020 vs 2024: T-stat=317.2941, P-value=0.0000\n",
      "Paired t-test 2016 vs 2024: T-stat=381.5806, P-value=0.0000\n"
     ]
    }
   ],
   "source": [
    "# 2. Paired t-tests (To compare specific time periods)\n",
    "def paired_t_test(df, year1, year2):\n",
    "    group1 = df[df[\"Year\"] == year1][\"RSEI\"]\n",
    "    group2 = df[df[\"Year\"] == year2][\"RSEI\"]\n",
    "    t_stat, p_val = stats.ttest_rel(group1, group2)\n",
    "    return t_stat, p_val\n",
    "\n",
    "t_16_20, p_16_20 = paired_t_test(df_combined, \"2016\", \"2020\")\n",
    "t_20_24, p_20_24 = paired_t_test(df_combined, \"2020\", \"2024\")\n",
    "t_16_24, p_16_24 = paired_t_test(df_combined, \"2016\", \"2024\")\n",
    "\n",
    "print(f\"Paired t-test 2016 vs 2020: T-stat={t_16_20:.4f}, P-value={p_16_20:.4f}\")\n",
    "print(f\"Paired t-test 2020 vs 2024: T-stat={t_20_24:.4f}, P-value={p_20_24:.4f}\")\n",
    "print(f\"Paired t-test 2016 vs 2024: T-stat={t_16_24:.4f}, P-value={p_16_24:.4f}\")"
   ]
  },
  {
   "cell_type": "code",
   "execution_count": 139,
   "id": "2e76ef59-40fe-474a-b8b5-9d0e8e18e52e",
   "metadata": {},
   "outputs": [
    {
     "name": "stdout",
     "output_type": "stream",
     "text": [
      "Cohen’s d (Effect size) 2016 vs 2020: nan\n",
      "Cohen’s d (Effect size) 2020 vs 2024: nan\n",
      "Cohen’s d (Effect size) 2016 vs 2024: nan\n",
      "Multiple Comparison of Means - Tukey HSD, FWER=0.05\n",
      "===================================================\n",
      "group1 group2 meandiff p-adj  lower   upper  reject\n",
      "---------------------------------------------------\n",
      "  2016   2020  -0.0066   0.0 -0.0068 -0.0064   True\n",
      "  2016   2024  -0.0229   0.0 -0.0231 -0.0226   True\n",
      "  2020   2024  -0.0163   0.0 -0.0165  -0.016   True\n",
      "---------------------------------------------------\n"
     ]
    }
   ],
   "source": [
    "# 3. Effect Size (Cohen’s d for paired comparisons)\n",
    "def cohens_d(x, y):\n",
    "    diff = x - y\n",
    "    return np.mean(diff) / np.std(diff, ddof=1)\n",
    "\n",
    "d_16_20 = cohens_d(df_combined[df_combined[\"Year\"] == \"2016\"][\"RSEI\"],\n",
    "                   df_combined[df_combined[\"Year\"] == \"2020\"][\"RSEI\"])\n",
    "d_20_24 = cohens_d(df_combined[df_combined[\"Year\"] == \"2020\"][\"RSEI\"],\n",
    "                   df_combined[df_combined[\"Year\"] == \"2024\"][\"RSEI\"])\n",
    "d_16_24 = cohens_d(df_combined[df_combined[\"Year\"] == \"2016\"][\"RSEI\"],\n",
    "                   df_combined[df_combined[\"Year\"] == \"2024\"][\"RSEI\"])\n",
    "\n",
    "print(f\"Cohen’s d (Effect size) 2016 vs 2020: {d_16_20:.4f}\")\n",
    "print(f\"Cohen’s d (Effect size) 2020 vs 2024: {d_20_24:.4f}\")\n",
    "print(f\"Cohen’s d (Effect size) 2016 vs 2024: {d_16_24:.4f}\")\n",
    "\n",
    "# 4. Tukey’s HSD Test (If ANOVA is significant)\n",
    "if p_value < 0.05:\n",
    "    tukey = pairwise_tukeyhsd(df_combined[\"RSEI\"], df_combined[\"Year\"])\n",
    "    print(tukey)\n"
   ]
  },
  {
   "cell_type": "code",
   "execution_count": 140,
   "id": "d1721ed7-e63f-41cb-a41a-9f26516d7ee2",
   "metadata": {},
   "outputs": [
    {
     "name": "stdout",
     "output_type": "stream",
     "text": [
      "City-wise ANOVA Test Results:\n",
      "                  F-statistic        P-value\n",
      "BCC_rmsi_index     389.481489  1.430506e-169\n",
      "CCC_rmsi_index   60265.392599   0.000000e+00\n",
      "CuCC_rmsi_index    900.998933   0.000000e+00\n",
      "DNCC_rmsi_index  17198.886963   0.000000e+00\n",
      "DSCC_rmsi_index  15010.990932   0.000000e+00\n",
      "GCC_rmsi_index   28193.559495   0.000000e+00\n",
      "KCC_rmsi_index   23558.167232   0.000000e+00\n",
      "MCC_rmsi_index   14663.786750   0.000000e+00\n",
      "NCC_rmsi_index    4404.267969   0.000000e+00\n",
      "RaCC_rmsi_index  14171.116557   0.000000e+00\n",
      "RCC_rmsi_index    4199.203047   0.000000e+00\n",
      "SCC_rmsi_index    7946.658775   0.000000e+00\n"
     ]
    }
   ],
   "source": [
    "import os\n",
    "import pandas as pd\n",
    "import numpy as np\n",
    "import scipy.stats as stats\n",
    "\n",
    "# Set the folder path where your CSV files are stored\n",
    "folder_path = r\"C:\\Users\\USER\\OneDrive - The University of Memphis\\Khulna University\\BlueGreenSpace\\EcologicalIndexGIS\\Coding\\RSEI_files\"  # Change this to your actual folder path\n",
    "\n",
    "# Initialize a dictionary to store ANOVA results\n",
    "anova_results = {}\n",
    "\n",
    "# Loop through all CSV files in the folder\n",
    "for file in os.listdir(folder_path):\n",
    "    if file.endswith(\".csv\"):  # Process only CSV files\n",
    "        city_name = file.replace(\".csv\", \"\")  # Extract city name from filename\n",
    "        file_path = os.path.join(folder_path, file)\n",
    "        \n",
    "        # Load the CSV file\n",
    "        df = pd.read_csv(file_path)\n",
    "\n",
    "        # Ensure correct column names for RSEI values (Update if needed)\n",
    "        if \"rsei_16\" in df.columns and \"rsei_20\" in df.columns and \"rsei_24\" in df.columns:\n",
    "            rsei_2016 = df[\"rsei_16\"].dropna()  # Drop missing values\n",
    "            rsei_2020 = df[\"rsei_20\"].dropna()\n",
    "            rsei_2024 = df[\"rsei_24\"].dropna()\n",
    "\n",
    "            # Ensure enough data points exist for ANOVA\n",
    "            if len(rsei_2016) > 1 and len(rsei_2020) > 1 and len(rsei_2024) > 1:\n",
    "                # Perform ANOVA test\n",
    "                f_stat, p_value = stats.f_oneway(rsei_2016, rsei_2020, rsei_2024)\n",
    "                anova_results[city_name] = {\"F-statistic\": f_stat, \"P-value\": p_value}\n",
    "            else:\n",
    "                anova_results[city_name] = {\"F-statistic\": None, \"P-value\": \"Not enough data\"}\n",
    "\n",
    "# Convert results into a DataFrame for better visualization\n",
    "anova_df = pd.DataFrame.from_dict(anova_results, orient=\"index\")\n",
    "\n",
    "# Save results to a CSV file\n",
    "anova_df.to_csv(\"city_wise_anova_results.csv\")\n",
    "\n",
    "# Display results\n",
    "print(\"City-wise ANOVA Test Results:\")\n",
    "print(anova_df)\n"
   ]
  },
  {
   "cell_type": "code",
   "execution_count": 2,
   "id": "63addb9f-dba8-4605-a44f-760414767d35",
   "metadata": {},
   "outputs": [
    {
     "name": "stdout",
     "output_type": "stream",
     "text": [
      "\n",
      "Tukey’s HSD Test Results for BCC_rmsi_index:\n",
      "Multiple Comparison of Means - Tukey HSD, FWER=0.05\n",
      "==================================================\n",
      "group1 group2 meandiff p-adj  lower  upper  reject\n",
      "--------------------------------------------------\n",
      "  2016   2020   0.0098    0.0 0.0087 0.0108   True\n",
      "  2016   2024   0.0113    0.0 0.0103 0.0124   True\n",
      "  2020   2024   0.0015 0.0013 0.0005 0.0026   True\n",
      "--------------------------------------------------\n",
      "\n",
      "Tukey’s HSD Test Results for CCC_rmsi_index:\n",
      "Multiple Comparison of Means - Tukey HSD, FWER=0.05\n",
      "===================================================\n",
      "group1 group2 meandiff p-adj  lower   upper  reject\n",
      "---------------------------------------------------\n",
      "  2016   2020  -0.0209   0.0 -0.0214 -0.0204   True\n",
      "  2016   2024  -0.0669   0.0 -0.0673 -0.0664   True\n",
      "  2020   2024   -0.046   0.0 -0.0464 -0.0455   True\n",
      "---------------------------------------------------\n",
      "\n",
      "Tukey’s HSD Test Results for CuCC_rmsi_index:\n",
      "Multiple Comparison of Means - Tukey HSD, FWER=0.05\n",
      "===================================================\n",
      "group1 group2 meandiff p-adj  lower   upper  reject\n",
      "---------------------------------------------------\n",
      "  2016   2020   0.0071   0.0  0.0059  0.0083   True\n",
      "  2016   2024  -0.0144   0.0 -0.0156 -0.0132   True\n",
      "  2020   2024  -0.0215   0.0 -0.0227 -0.0203   True\n",
      "---------------------------------------------------\n",
      "\n",
      "Tukey’s HSD Test Results for DNCC_rmsi_index:\n",
      "Multiple Comparison of Means - Tukey HSD, FWER=0.05\n",
      "===================================================\n",
      "group1 group2 meandiff p-adj  lower   upper  reject\n",
      "---------------------------------------------------\n",
      "  2016   2020   -0.031   0.0 -0.0316 -0.0304   True\n",
      "  2016   2024  -0.0442   0.0 -0.0448 -0.0437   True\n",
      "  2020   2024  -0.0133   0.0 -0.0138 -0.0127   True\n",
      "---------------------------------------------------\n",
      "\n",
      "Tukey’s HSD Test Results for DSCC_rmsi_index:\n",
      "Multiple Comparison of Means - Tukey HSD, FWER=0.05\n",
      "===================================================\n",
      "group1 group2 meandiff p-adj  lower   upper  reject\n",
      "---------------------------------------------------\n",
      "  2016   2020  -0.0661   0.0  -0.067 -0.0652   True\n",
      "  2016   2024  -0.0365   0.0 -0.0374 -0.0356   True\n",
      "  2020   2024   0.0296   0.0  0.0287  0.0305   True\n",
      "---------------------------------------------------\n",
      "\n",
      "Tukey’s HSD Test Results for GCC_rmsi_index:\n",
      "Multiple Comparison of Means - Tukey HSD, FWER=0.05\n",
      "===================================================\n",
      "group1 group2 meandiff p-adj  lower   upper  reject\n",
      "---------------------------------------------------\n",
      "  2016   2020   0.0349   0.0  0.0345  0.0354   True\n",
      "  2016   2024  -0.0079   0.0 -0.0084 -0.0075   True\n",
      "  2020   2024  -0.0428   0.0 -0.0433 -0.0424   True\n",
      "---------------------------------------------------\n",
      "\n",
      "Tukey’s HSD Test Results for KCC_rmsi_index:\n",
      "Multiple Comparison of Means - Tukey HSD, FWER=0.05\n",
      "===================================================\n",
      "group1 group2 meandiff p-adj  lower   upper  reject\n",
      "---------------------------------------------------\n",
      "  2016   2020   0.0431   0.0   0.042  0.0442   True\n",
      "  2016   2024  -0.0561   0.0 -0.0571  -0.055   True\n",
      "  2020   2024  -0.0992   0.0 -0.1002 -0.0981   True\n",
      "---------------------------------------------------\n",
      "\n",
      "Tukey’s HSD Test Results for MCC_rmsi_index:\n",
      "Multiple Comparison of Means - Tukey HSD, FWER=0.05\n",
      "===================================================\n",
      "group1 group2 meandiff p-adj  lower   upper  reject\n",
      "---------------------------------------------------\n",
      "  2016   2020  -0.0592   0.0 -0.0601 -0.0584   True\n",
      "  2016   2024  -0.0467   0.0 -0.0475 -0.0458   True\n",
      "  2020   2024   0.0126   0.0  0.0117  0.0134   True\n",
      "---------------------------------------------------\n",
      "\n",
      "Tukey’s HSD Test Results for NCC_rmsi_index:\n",
      "Multiple Comparison of Means - Tukey HSD, FWER=0.05\n",
      "===================================================\n",
      "group1 group2 meandiff p-adj  lower   upper  reject\n",
      "---------------------------------------------------\n",
      "  2016   2020  -0.0341   0.0 -0.0353 -0.0329   True\n",
      "  2016   2024  -0.0457   0.0 -0.0469 -0.0445   True\n",
      "  2020   2024  -0.0116   0.0 -0.0128 -0.0104   True\n",
      "---------------------------------------------------\n",
      "\n",
      "Tukey’s HSD Test Results for RaCC_rmsi_index:\n",
      "Multiple Comparison of Means - Tukey HSD, FWER=0.05\n",
      "=================================================\n",
      "group1 group2 meandiff p-adj lower  upper  reject\n",
      "-------------------------------------------------\n",
      "  2016   2020   0.0062   0.0 0.0057 0.0066   True\n",
      "  2016   2024   0.0318   0.0 0.0314 0.0323   True\n",
      "  2020   2024   0.0257   0.0 0.0252 0.0262   True\n",
      "-------------------------------------------------\n",
      "\n",
      "Tukey’s HSD Test Results for RCC_rmsi_index:\n",
      "Multiple Comparison of Means - Tukey HSD, FWER=0.05\n",
      "===================================================\n",
      "group1 group2 meandiff p-adj  lower   upper  reject\n",
      "---------------------------------------------------\n",
      "  2016   2020  -0.0405   0.0 -0.0415 -0.0394   True\n",
      "  2016   2024  -0.0201   0.0 -0.0212 -0.0191   True\n",
      "  2020   2024   0.0203   0.0  0.0193  0.0214   True\n",
      "---------------------------------------------------\n",
      "\n",
      "Tukey’s HSD Test Results for SCC_rmsi_index:\n",
      "Multiple Comparison of Means - Tukey HSD, FWER=0.05\n",
      "===================================================\n",
      "group1 group2 meandiff p-adj  lower   upper  reject\n",
      "---------------------------------------------------\n",
      "  2016   2020   0.0645   0.0  0.0631  0.0659   True\n",
      "  2016   2024  -0.0031   0.0 -0.0045 -0.0017   True\n",
      "  2020   2024  -0.0676   0.0  -0.069 -0.0661   True\n",
      "---------------------------------------------------\n"
     ]
    }
   ],
   "source": [
    "import os\n",
    "import pandas as pd\n",
    "import numpy as np\n",
    "import scipy.stats as stats\n",
    "from statsmodels.stats.multicomp import pairwise_tukeyhsd\n",
    "\n",
    "# Set the folder path where your CSV files are stored\n",
    "folder_path = r\"C:\\Users\\USER\\OneDrive - The University of Memphis\\Khulna University\\BlueGreenSpace\\EcologicalIndexGIS\\Coding\\RSEI_files\"\n",
    "\n",
    "# Initialize an empty list to store city data\n",
    "data_list = []\n",
    "\n",
    "# Loop through all CSV files in the folder\n",
    "for file in os.listdir(folder_path):\n",
    "    if file.endswith(\".csv\"):  # Process only CSV files\n",
    "        city_name = file.replace(\".csv\", \"\")  # Extract city name from filename\n",
    "        file_path = os.path.join(folder_path, file)\n",
    "        \n",
    "        # Load the CSV file\n",
    "        df = pd.read_csv(file_path)\n",
    "\n",
    "        # Ensure the columns for RSEI values are correctly named (update these if needed)\n",
    "        if \"rsei_16\" in df.columns and \"rsei_20\" in df.columns and \"rsei_24\" in df.columns:\n",
    "            # Convert data into long format for Tukey's test\n",
    "            for i, row in df.iterrows():\n",
    "                data_list.append([city_name, \"2016\", row[\"rsei_16\"]])\n",
    "                data_list.append([city_name, \"2020\", row[\"rsei_20\"]])\n",
    "                data_list.append([city_name, \"2024\", row[\"rsei_24\"]])\n",
    "\n",
    "# Create a DataFrame\n",
    "df_combined = pd.DataFrame(data_list, columns=[\"City\", \"Year\", \"RSEI\"])\n",
    "\n",
    "# Convert 'Year' to categorical\n",
    "df_combined[\"Year\"] = df_combined[\"Year\"].astype(str)\n",
    "\n",
    "# Perform Tukey’s HSD Test for each city\n",
    "tukey_results = {}\n",
    "\n",
    "for city in df_combined[\"City\"].unique():\n",
    "    city_data = df_combined[df_combined[\"City\"] == city]\n",
    "    \n",
    "    # Run Tukey’s HSD test\n",
    "    tukey = pairwise_tukeyhsd(city_data[\"RSEI\"], city_data[\"Year\"])\n",
    "    \n",
    "    # Store results\n",
    "    tukey_results[city] = tukey.summary()\n",
    "\n",
    "# Convert results into a dictionary format for better visualization\n",
    "tukey_results_df = pd.DataFrame.from_dict(tukey_results, orient=\"index\")\n",
    "\n",
    "# Save results to a CSV file\n",
    "tukey_results_df.to_csv(\"tukey_hsd_citywise.csv\")\n",
    "\n",
    "# Print Tukey’s test results for each city\n",
    "for city, result in tukey_results.items():\n",
    "    print(f\"\\nTukey’s HSD Test Results for {city}:\")\n",
    "    print(result)"
   ]
  },
  {
   "cell_type": "code",
   "execution_count": null,
   "id": "435da574-694b-41cd-8967-7c0de4d6ec45",
   "metadata": {},
   "outputs": [],
   "source": []
  }
 ],
 "metadata": {
  "kernelspec": {
   "display_name": "Python 3 (ipykernel)",
   "language": "python",
   "name": "python3"
  },
  "language_info": {
   "codemirror_mode": {
    "name": "ipython",
    "version": 3
   },
   "file_extension": ".py",
   "mimetype": "text/x-python",
   "name": "python",
   "nbconvert_exporter": "python",
   "pygments_lexer": "ipython3",
   "version": "3.12.7"
  }
 },
 "nbformat": 4,
 "nbformat_minor": 5
}
